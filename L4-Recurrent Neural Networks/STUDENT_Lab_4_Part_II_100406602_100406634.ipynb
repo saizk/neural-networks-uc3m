{
 "cells": [
  {
   "cell_type": "markdown",
   "metadata": {
    "id": "5vr-mV4Y5Bg9"
   },
   "source": [
    "------------------------------------------------------\n",
    "***Sergio Aizcorbe - 100406602***\n",
    "\n",
    "***Bernardo Bouzas - 100406634***\n",
    "\n",
    "------------------------------------------------------"
   ]
  },
  {
   "cell_type": "markdown",
   "metadata": {
    "id": "3s5y73IL66QG"
   },
   "source": [
    "# Lab 4 (Part 2): Character-Level LSTM in PyTorch\n",
    "\n",
    "\n",
    "------------------------------------------------------\n",
    "*Neural Networks. Bachelor in Data Science and Engineering*\n",
    "\n",
    "*Pablo M. Olmos pamartin@ing.uc3m.es*\n",
    "\n",
    "*Aurora Cobo Aguilera acobo@tsc.uc3m.es*\n",
    "\n",
    "------------------------------------------------------\n",
    "\n",
    "\n",
    "In this notebook, construct a character-level LSTM with PyTorch. The network will train character by character on some text, then generate new text character by character. As an example, I will train on Anna Karenina. **This model will be able to generate new text based on the text from the book!**\n",
    "\n",
    "This network is based off of Andrej Karpathy's [post on RNNs](http://karpathy.github.io/2015/05/21/rnn-effectiveness/) and [implementation in Torch](https://github.com/karpathy/char-rnn). Below is the general architecture of the character-wise RNN.\n"
   ]
  },
  {
   "cell_type": "code",
   "execution_count": 1,
   "metadata": {
    "colab": {
     "base_uri": "https://localhost:8080/",
     "height": 421
    },
    "id": "T1aMQ4GY66QJ",
    "outputId": "dbaf572b-a85c-4226-ee20-0714a52ed366"
   },
   "outputs": [
    {
     "data": {
      "text/html": [
       "<img src=\"http://karpathy.github.io/assets/rnn/charseq.jpeg\" width=\"500\" height=\"400\"/>"
      ],
      "text/plain": [
       "<IPython.core.display.Image object>"
      ]
     },
     "execution_count": 1,
     "metadata": {},
     "output_type": "execute_result"
    }
   ],
   "source": [
    "from IPython.display import Image\n",
    "from IPython.core.display import HTML \n",
    "\n",
    "Image(url= \"http://karpathy.github.io/assets/rnn/charseq.jpeg\", width=500, height=400)"
   ]
  },
  {
   "cell_type": "markdown",
   "metadata": {
    "id": "7JG_HdBO66QJ"
   },
   "source": [
    "First let's load in our required resources for data loading and model creation."
   ]
  },
  {
   "cell_type": "code",
   "execution_count": 2,
   "metadata": {
    "id": "frW3TMji66QK"
   },
   "outputs": [],
   "source": [
    "import torch\n",
    "from torch import nn\n",
    "from torch import optim\n",
    "import numpy as np\n",
    "import time\n",
    "import matplotlib.pyplot as plt\n",
    "import seaborn as sns\n",
    "\n",
    "%matplotlib inline \n",
    "%config InlineBackend.figure_format = 'retina' #High quality figures\n",
    "\n",
    "sns.set_theme()\n",
    "plt.rcParams['figure.figsize'] = (8, 8)"
   ]
  },
  {
   "cell_type": "markdown",
   "metadata": {
    "id": "GNhRE8b166QK"
   },
   "source": [
    "## Part I. Load in Data\n",
    "\n",
    "First, we load the Anna Karenina text file and convert it into integers for our network to use. "
   ]
  },
  {
   "cell_type": "code",
   "execution_count": 3,
   "metadata": {
    "colab": {
     "base_uri": "https://localhost:8080/"
    },
    "id": "KwNCe_QzG-xL",
    "outputId": "5299b10a-cd5a-45fd-f8db-79a81c0cd8a3"
   },
   "outputs": [],
   "source": [
    "# from google.colab import drive\n",
    "# drive.mount('/content/drive')"
   ]
  },
  {
   "cell_type": "code",
   "execution_count": 4,
   "metadata": {
    "id": "NB8odWPK66QK"
   },
   "outputs": [],
   "source": [
    "# open text file and read in data as `text`\n",
    "with open('anna.txt', 'r') as f:\n",
    "    text = f.read()"
   ]
  },
  {
   "cell_type": "markdown",
   "metadata": {
    "id": "4kfCGoEZ66QK"
   },
   "source": [
    "Let's check out the first 100 characters, make sure everything is peachy. According to the [American Book Review](http://americanbookreview.org/100bestlines.asp), this is the 6th best first line of a book ever."
   ]
  },
  {
   "cell_type": "code",
   "execution_count": 5,
   "metadata": {
    "colab": {
     "base_uri": "https://localhost:8080/",
     "height": 36
    },
    "id": "V81mNU4m66QL",
    "outputId": "3aec2964-8f70-495f-bf40-94709a6f19b8"
   },
   "outputs": [
    {
     "data": {
      "text/plain": [
       "'Chapter 1\\n\\n\\nHappy families are all alike; every unhappy family is unhappy in its own\\nway.\\n\\nEverythin'"
      ]
     },
     "execution_count": 5,
     "metadata": {},
     "output_type": "execute_result"
    }
   ],
   "source": [
    "text[:100]"
   ]
  },
  {
   "cell_type": "markdown",
   "metadata": {
    "id": "MOqT1u3n66QL"
   },
   "source": [
    "### Tokenization\n",
    "\n",
    "In the cells, below, I'm creating a couple **dictionaries** to convert the characters to and from integers. Encoding the characters as integers makes it easier to use as input in the network.\n",
    "\n",
    "Your can read more about Python **set data types** in this [link](https://docs.python.org/3.8/library/stdtypes.html#set-types-set-frozenset). Also, check [here](http://book.pythontips.com/en/latest/enumerate.html) about the `enumerate()` Python built-in function."
   ]
  },
  {
   "cell_type": "code",
   "execution_count": 6,
   "metadata": {
    "id": "mL45EfD566QM"
   },
   "outputs": [],
   "source": [
    "# encode the text and map each character to an integer and vice versa\n",
    "\n",
    "# we create two dictionaries:\n",
    "# 1. int2char, which maps integers to characters\n",
    "# 2. char2int, which maps characters to unique integers\n",
    "chars = tuple(set(text))             #set() is an unordered collection of unique elements in text\n",
    "int2char = dict(enumerate(chars))\n",
    "char2int = {ch: ii for ii, ch in int2char.items()}\n",
    "\n",
    "# encode the text\n",
    "encoded = np.array([char2int[ch] for ch in text])"
   ]
  },
  {
   "cell_type": "markdown",
   "metadata": {
    "id": "DwsNj_ee66QN"
   },
   "source": [
    "And we can see those same characters from above, encoded as integers."
   ]
  },
  {
   "cell_type": "code",
   "execution_count": 7,
   "metadata": {
    "colab": {
     "base_uri": "https://localhost:8080/"
    },
    "id": "4ynxCtbr66QN",
    "outputId": "525a0107-65ba-4a7a-bd2b-e120c00f22cc"
   },
   "outputs": [
    {
     "data": {
      "text/plain": [
       "array([29, 69, 15, 20, 51, 26, 13, 63, 33, 38, 38, 38, 53, 15, 20, 20, 60,\n",
       "       63, 11, 15, 32, 30, 82, 30, 26, 34, 63, 15, 13, 26, 63, 15, 82, 82,\n",
       "       63, 15, 82, 30, 21, 26, 19, 63, 26,  9, 26, 13, 60, 63, 74,  3, 69,\n",
       "       15, 20, 20, 60, 63, 11, 15, 32, 30, 82, 60, 63, 30, 34, 63, 74,  3,\n",
       "       69, 15, 20, 20, 60, 63, 30,  3, 63, 30, 51, 34, 63, 78, 46,  3, 38,\n",
       "       46, 15, 60, 68, 38, 38, 44,  9, 26, 13, 60, 51, 69, 30,  3])"
      ]
     },
     "execution_count": 7,
     "metadata": {},
     "output_type": "execute_result"
    }
   ],
   "source": [
    "encoded[:100]"
   ]
  },
  {
   "cell_type": "code",
   "execution_count": 8,
   "metadata": {
    "id": "1zbxgnhyEv-F"
   },
   "outputs": [],
   "source": [
    "n_labels = len(chars)"
   ]
  },
  {
   "cell_type": "markdown",
   "metadata": {
    "id": "J21dH--c66QO"
   },
   "source": [
    "## Part II. Pre-processing the data\n",
    "\n",
    "As you can see in our char-RNN image above, our LSTM expects an input that is **one-hot encoded** meaning that each character is converted into an integer (via our created dictionary) and *then* converted into a column vector where only it's corresponding integer index will have the value of 1 and the rest of the vector will be filled with 0's. Since we're one-hot encoding the data, let's make a function to do that!\n"
   ]
  },
  {
   "cell_type": "code",
   "execution_count": 9,
   "metadata": {
    "id": "45dXAIIs66QP"
   },
   "outputs": [],
   "source": [
    "def one_hot_encode(arr, n_labels):\n",
    "    \n",
    "    num_elements = arr.shape[0]*arr.shape[1]\n",
    "    \n",
    "    # Initialize the the encoded array\n",
    "    one_hot = np.zeros([num_elements, n_labels], dtype=np.float32)\n",
    "    \n",
    "    # Fill the appropriate elements with ones\n",
    "    one_hot[np.arange(one_hot.shape[0]), arr.reshape([num_elements])] = 1.\n",
    "    \n",
    "    # Reshape as (n_batch,seq_length,n_labels)\n",
    "    \n",
    "    return one_hot.reshape(arr.shape[0],arr.shape[1],n_labels)"
   ]
  },
  {
   "cell_type": "code",
   "execution_count": 10,
   "metadata": {
    "colab": {
     "base_uri": "https://localhost:8080/"
    },
    "id": "ixroLXD_66QP",
    "outputId": "f18c1226-e2f4-49fe-ffbe-639790a3eef9"
   },
   "outputs": [
    {
     "name": "stdout",
     "output_type": "stream",
     "text": [
      "[[[0. 0. 0. 1. 0. 0. 0. 0.]\n",
      "  [0. 0. 0. 0. 0. 1. 0. 0.]\n",
      "  [0. 1. 0. 0. 0. 0. 0. 0.]]\n",
      "\n",
      " [[0. 0. 1. 0. 0. 0. 0. 0.]\n",
      "  [0. 0. 0. 0. 1. 0. 0. 0.]\n",
      "  [0. 0. 0. 0. 0. 0. 1. 0.]]]\n"
     ]
    }
   ],
   "source": [
    "# check that the function works as expected\n",
    "test_seq = np.array([[3, 5, 1],[2,4,6]])\n",
    "one_hot = one_hot_encode(test_seq, 8)\n",
    "\n",
    "print(one_hot)"
   ]
  },
  {
   "cell_type": "markdown",
   "metadata": {
    "id": "6tTVBSM366QQ"
   },
   "source": [
    "## Part III. Making training mini-batches\n",
    "\n",
    "\n",
    "To train on this data, we also want to create mini-batches for training. Remember that we want our batches to be multiple sequences of some desired number of sequence steps. Considering a simple example, our batches would look like this."
   ]
  },
  {
   "cell_type": "code",
   "execution_count": 11,
   "metadata": {
    "colab": {
     "base_uri": "https://localhost:8080/",
     "height": 471
    },
    "id": "DsWVtmLG66QQ",
    "outputId": "0fc017b6-4bc2-4619-ebc9-08e8de93febc"
   },
   "outputs": [
    {
     "data": {
      "text/html": [
       "<img src=\"http://digtime.cn/uploads/images/201907/12/1/Tt94B4Htu7.png\" width=\"700\" height=\"450\"/>"
      ],
      "text/plain": [
       "<IPython.core.display.Image object>"
      ]
     },
     "execution_count": 11,
     "metadata": {},
     "output_type": "execute_result"
    }
   ],
   "source": [
    "Image(url= \"http://digtime.cn/uploads/images/201907/12/1/Tt94B4Htu7.png\", width=700, height=450)"
   ]
  },
  {
   "cell_type": "markdown",
   "metadata": {
    "id": "5XCZ8ak766QQ"
   },
   "source": [
    "In this example, we'll take the encoded characters (passed in as the `arr` parameter) and split them into multiple sequences, given by `batch_size`. Each of our sequences will be `seq_length` long.\n",
    "\n",
    "### Creating Batches\n",
    "\n",
    "**1. The first thing we need to do is discard some of the text so we only have completely full mini-batches. **\n",
    "\n",
    "Each batch contains $N \\times M$ characters, where **$N$ is the batch size** (the number of sequences in a batch) and $M$ is the seq_length or number of time steps in a sequence. Then, to get the total number of batches, $K$, that we can make from the array `arr`, you divide the length of `arr` by the number of characters per batch. Once you know the number of batches, you can get the total number of characters to keep from `arr`, $N * M * K$.\n",
    "\n",
    "**2. After that, we need to split `arr` into batches. ** \n",
    "\n",
    "You can do this using `arr.reshape(size)` where `size` is a tuple containing the dimensions sizes of the reshaped array. We know we want $N$ sequences in a batch, so let's make that the size of the first dimension. For the second dimension, you can use `-1` as a placeholder in the size, it'll fill up the array with the appropriate data for you. After this, you should have an array that is $N \\times (M * K)$.\n",
    "\n",
    "**3. Now that we have this array, we can iterate through it to get our mini-batches. **\n",
    "\n",
    "The idea is each batch is a $N \\times M$ window on the $N \\times (M * K)$ array. For each subsequent batch, the window moves over by `seq_length`. We also want to create both the input and target arrays. Remember that the targets are just the inputs shifted over by one character. \n",
    "\n",
    "> **Exercise:** Understand the following code for creating batches in the function below. **Note:** Take a look to this [link](https://stackoverflow.com/questions/231767/what-does-the-yield-keyword-do) to understand what `yield` does."
   ]
  },
  {
   "cell_type": "code",
   "execution_count": 12,
   "metadata": {
    "id": "bY9ssC9x66QR"
   },
   "outputs": [],
   "source": [
    "def get_batches(arr, batch_size, seq_length):\n",
    "    '''Create a generator that returns batches of size\n",
    "       batch_size x seq_length from arr.\n",
    "       \n",
    "       Arguments\n",
    "       ---------\n",
    "       arr: Array you want to make batches from\n",
    "       batch_size: Batch size, the number of sequences per batch\n",
    "       seq_length: Number of encoded chars in a sequence\n",
    "    '''\n",
    "    \n",
    "    batch_size_total = batch_size * seq_length\n",
    "    # total number of batches we can make\n",
    "    n_batches = len(arr)//batch_size_total\n",
    "    \n",
    "    # Keep only enough characters to make full batches\n",
    "    arr = arr[:n_batches * batch_size_total]\n",
    "    # Reshape into batch_size rows\n",
    "    arr = arr.reshape((batch_size, -1))      # IMPORTANT TO UNDERSTAND THE DIMENSIONS OF arr\n",
    "    \n",
    "    # iterate through the array. We read every of the n_batches sequeces in windows of seq_length characters\n",
    "    for n in range(0, arr.shape[1], seq_length):\n",
    "        # The features\n",
    "        x = arr[:, n:n+seq_length]\n",
    "        # The targets, shifted by one\n",
    "        y = np.zeros_like(x)\n",
    "        \n",
    "        if (n+seq_length<arr.shape[1]):     \n",
    "            y[:,-1] = arr[:, n+seq_length]\n",
    "            y[:, :-1] = x[:, 1:]\n",
    "        else: # If n+seq_length == arr.shape[1], then we are done! (arr[:, n+seq_length] yields an indexing error).\n",
    "              # We return a window with one column less (as the target for the last character is not available)\n",
    "            x = arr[:, n:n+seq_length-1]\n",
    "            y = np.zeros_like(x)\n",
    "            y[:, :-1] = x[:, 1:]\n",
    "            y[:,-1] = arr[:,-1]            \n",
    "        yield x, y"
   ]
  },
  {
   "cell_type": "markdown",
   "metadata": {
    "id": "PGPmKRpW66QR"
   },
   "source": [
    "### Test Your Implementation\n",
    "\n",
    "Lets make some data sets and we can check out what's going on as we batch data. Here, as an example, I'm going to use a batch size of 8 and 50 sequence steps."
   ]
  },
  {
   "cell_type": "code",
   "execution_count": 13,
   "metadata": {
    "colab": {
     "base_uri": "https://localhost:8080/"
    },
    "id": "yn2JhtIE66QS",
    "outputId": "c22a5313-1dc6-41ea-cd4b-d3ea9abae6db"
   },
   "outputs": [
    {
     "name": "stdout",
     "output_type": "stream",
     "text": [
      "(8, 50)\n",
      "(8, 50)\n"
     ]
    }
   ],
   "source": [
    "batches = get_batches(encoded, 8, 50)\n",
    "x,y = next(batches)\n",
    "print(x.shape)\n",
    "print(y.shape)"
   ]
  },
  {
   "cell_type": "code",
   "execution_count": 14,
   "metadata": {
    "colab": {
     "base_uri": "https://localhost:8080/"
    },
    "id": "OlyguhVh66QS",
    "outputId": "b10f4a80-73e5-4e8d-dd11-e2334b7f9a20",
    "scrolled": true
   },
   "outputs": [
    {
     "name": "stdout",
     "output_type": "stream",
     "text": [
      "x\n",
      " [[29 69 15 20 51 26 13 63 33 38]\n",
      " [34 78  3 63 51 69 15 51 63 15]\n",
      " [26  3 22 63 78 13 63 15 63 11]\n",
      " [34 63 51 69 26 63 17 69 30 26]\n",
      " [63 34 15 46 63 69 26 13 63 51]\n",
      " [17 74 34 34 30 78  3 63 15  3]\n",
      " [63 43  3  3 15 63 69 15 22 63]\n",
      " [73 49 82 78  3 34 21 60 68 63]]\n",
      "\n",
      "y\n",
      " [[69 15 20 51 26 13 63 33 38 38]\n",
      " [78  3 63 51 69 15 51 63 15 51]\n",
      " [ 3 22 63 78 13 63 15 63 11 78]\n",
      " [63 51 69 26 63 17 69 30 26 11]\n",
      " [34 15 46 63 69 26 13 63 51 26]\n",
      " [74 34 34 30 78  3 63 15  3 22]\n",
      " [43  3  3 15 63 69 15 22 63 34]\n",
      " [49 82 78  3 34 21 60 68 63 27]]\n"
     ]
    }
   ],
   "source": [
    "# printing out the first 10 items in a sequence\n",
    "print('x\\n', x[:10, :10])\n",
    "print('\\ny\\n', y[:10, :10])"
   ]
  },
  {
   "cell_type": "markdown",
   "metadata": {
    "id": "kloPmLBN66QS"
   },
   "source": [
    "The above output should look something like \n",
    "```\n",
    "x\n",
    " [[25  8 60 11 45 27 28 73  1  2]\n",
    " [17  7 20 73 45  8 60 45 73 60]\n",
    " [27 20 80 73  7 28 73 60 73 65]\n",
    " [17 73 45  8 27 73 66  8 46 27]\n",
    " [73 17 60 12 73  8 27 28 73 45]\n",
    " [66 64 17 17 46  7 20 73 60 20]\n",
    " [73 76 20 20 60 73  8 60 80 73]\n",
    " [47 35 43  7 20 17 24 50 37 73]]\n",
    "\n",
    "y\n",
    " [[ 8 60 11 45 27 28 73  1  2  2]\n",
    " [ 7 20 73 45  8 60 45 73 60 45]\n",
    " [20 80 73  7 28 73 60 73 65  7]\n",
    " [73 45  8 27 73 66  8 46 27 65]\n",
    " [17 60 12 73  8 27 28 73 45 27]\n",
    " [64 17 17 46  7 20 73 60 20 80]\n",
    " [76 20 20 60 73  8 60 80 73 17]\n",
    " [35 43  7 20 17 24 50 37 73 36]]\n",
    " ```\n",
    " although the exact numbers may be different. Check to make sure the data is shifted over one step for `y`."
   ]
  },
  {
   "cell_type": "markdown",
   "metadata": {
    "id": "lAFt6NRU66QS"
   },
   "source": [
    "---\n",
    "## Part IV. Defining the network with PyTorch\n",
    "\n",
    "Below is where you'll define the network."
   ]
  },
  {
   "cell_type": "code",
   "execution_count": 15,
   "metadata": {
    "colab": {
     "base_uri": "https://localhost:8080/",
     "height": 421
    },
    "id": "XgoJOLgP66QT",
    "outputId": "8fe63b28-5bfe-4f6a-a4b8-ef0e892133c8"
   },
   "outputs": [
    {
     "data": {
      "text/html": [
       "<img src=\"http://digtime.cn/uploads/images/201907/12/1/ZG9JIjidmz.png\" width=\"500\" height=\"400\"/>"
      ],
      "text/plain": [
       "<IPython.core.display.Image object>"
      ]
     },
     "execution_count": 15,
     "metadata": {},
     "output_type": "execute_result"
    }
   ],
   "source": [
    "Image(url= \"http://digtime.cn/uploads/images/201907/12/1/ZG9JIjidmz.png\", width=500, height=400)"
   ]
  },
  {
   "cell_type": "markdown",
   "metadata": {
    "id": "gRYGGXTx66QT"
   },
   "source": [
    "#### Model Structure\n",
    "\n",
    "In `__init__` the suggested structure is as follows:\n",
    "* Create and store the necessary dictionaries \n",
    "* Define an LSTM layer that takes as params: an input size (the number of characters), a hidden layer size `n_hidden`, a number of layers `n_layers`, a dropout probability `drop_prob`, and a batch_first boolean (True, since we are batching)\n",
    "* Define a dropout layer with `drop_prob`\n",
    "* Define a fully-connected layer with params: input size `n_hidden` and output size (the number of characters)\n",
    "* Finally, initialize LSTM hidden state (h_0) and memory (c_0)\n",
    "\n",
    "\n",
    "#### LSTM Inputs/Outputs\n",
    "\n",
    "You can create a basic [LSTM layer](https://pytorch.org/docs/stable/nn.html#lstm) as follows\n",
    "\n",
    "```python\n",
    "self.lstm = nn.LSTM(input_size, n_hidden, num_layers, \n",
    "                            dropout=drop_prob, batch_first=True)\n",
    "```\n",
    "\n",
    "where `input_size` is the number of characters this cell expects to see as sequential input, and `n_hidden` is the number of units in the hidden layers in the cell. And we can add dropout by adding a dropout parameter with a specified probability; this will automatically add dropout to the inputs or outputs. \n",
    "\n",
    "\n",
    "> **Exercise:** Complete the following code\n"
   ]
  },
  {
   "cell_type": "code",
   "execution_count": 16,
   "metadata": {
    "id": "lCgx35K466QT"
   },
   "outputs": [],
   "source": [
    "class CharLSTM(nn.Module):\n",
    "    \n",
    "    def __init__(self, chars, hidden_dim=256, n_layers=2, drop_prob=0.5):\n",
    "        \n",
    "        ''' n_chars is the number of different characters '''        \n",
    "        \n",
    "        super().__init__()\n",
    "        self.drop_prob = drop_prob\n",
    "        self.n_layers = n_layers\n",
    "        self.hidden_dim = hidden_dim\n",
    "        self.chars = chars\n",
    "        self.n_char = len(chars)\n",
    "        \n",
    "        ## TODO: define the LSTM. Do not forget to include the dropout between LSTM layers!\n",
    "        self.lstm = nn.LSTM(\n",
    "            input_size=self.n_char, \n",
    "            hidden_size=self.hidden_dim, \n",
    "            num_layers=self.n_layers, \n",
    "            dropout=self.drop_prob, \n",
    "            batch_first=True\n",
    "        )\n",
    "        ## TODO: define a dropout layer\n",
    "        self.dropout = nn.Dropout(p=drop_prob)\n",
    "        \n",
    "        ## TODO: define the final, fully-connected output layer\n",
    "        self.fc = nn.Linear(\n",
    "            in_features=self.hidden_dim, \n",
    "            out_features=self.n_char\n",
    "        )\n",
    "        \n",
    "        self.logsoftmax = nn.LogSoftmax(dim=1) \n",
    "      \n",
    "    \n",
    "    def forward(self, x, h=None):\n",
    "        ''' Forward pass through the network. \n",
    "            These inputs are x, and the LSTM initial hidden/cell state h. \n",
    "            When h is not provided, default initializaiton (all zeros) is used.'''\n",
    "        \n",
    "        if (h==None):\n",
    "            #No initial hidden_state and memory are provided. They are set to 0s\n",
    "            r_output, hidden = self.lstm(x)  \n",
    "        \n",
    "        else:\n",
    "            #Non-zero initial state. This is used for generating new text\n",
    "            r_output, hidden = self.lstm(x,h)     \n",
    "        \n",
    "        ## TODO: pass through a dropout layer\n",
    "        out = self.dropout(r_output)\n",
    "        \n",
    "        # Stack up LSTM outputs\n",
    "        out = out.reshape(-1, self.hidden_dim) \n",
    "\n",
    "        ## TODO: put x through the fully-connected layer and a logsoftmax output       \n",
    "        out = self.logsoftmax(self.fc(out))\n",
    "\n",
    "        # return the final output and the hidden state\n",
    "        return out, hidden\n",
    "    "
   ]
  },
  {
   "cell_type": "markdown",
   "metadata": {
    "id": "AD16lkxW66QU"
   },
   "source": [
    "The following code extends the above class by including a training method, and also the methods to perform one-hot encoding and get the mini-batches from the text. A couple of details about training: \n",
    "* Within the batch loop, we detach the hidden state from its history; this time setting it equal to a new *tuple* variable because an LSTM has a hidden state that is a tuple of the hidden and cell states.\n",
    "* We use [`clip_grad_norm_`](https://pytorch.org/docs/stable/_modules/torch/nn/utils/clip_grad.html) to help prevent exploding gradients.\n",
    "\n",
    "> **Exercise:** Complete the following code\n"
   ]
  },
  {
   "cell_type": "code",
   "execution_count": null,
   "metadata": {
    "id": "ZSlTGPIn66QU"
   },
   "outputs": [],
   "source": [
    "class CharLSTM_extended(CharLSTM):\n",
    "    \n",
    "    def __init__(self, batch_size, sequence_length,\n",
    "                 epochs=5, lr=0.001, clip=5, *args, **kwargs):\n",
    "        \n",
    "        super().__init__(*args, **kwargs)  \n",
    "\n",
    "        self.batch_size = batch_size\n",
    "        \n",
    "        self.clip = clip\n",
    "        \n",
    "        self.seq_length = sequence_length\n",
    "        \n",
    "        self.lr = lr #Learning Rate\n",
    "    \n",
    "        self.optim = optim.Adam(self.parameters(), self.lr)\n",
    "        \n",
    "        self.epochs = epochs\n",
    "        \n",
    "        self.criterion = nn.NLLLoss()             \n",
    "        \n",
    "        # A list to store the loss evolution along training\n",
    "        self.loss_during_training = [] \n",
    "        \n",
    "        # Setting GPU training if available\n",
    "        self.device = torch.device(\"cuda\" if torch.cuda.is_available() else \"cpu\")\n",
    "        self.to(self.device)\n",
    "        \n",
    "        # Training mode by default\n",
    "        self.train()\n",
    "        \n",
    "    def get_batches(self,arr):\n",
    "        '''Create a generator that returns batches of size\n",
    "           batch_size x seq_length from arr.\n",
    "\n",
    "           Arguments\n",
    "           ---------\n",
    "           arr: Array you want to make batches from\n",
    "           self.batch_size: Batch size, the number of sequences per batch\n",
    "           self.seq_length: Number of encoded chars in a sequence\n",
    "        '''\n",
    "        \n",
    "        \n",
    "        batch_size_total = self.batch_size * self.seq_length\n",
    "        # total number of batches we can make\n",
    "        n_batches = len(arr)//batch_size_total\n",
    "        \n",
    "        # Keep only enough characters to make full batches\n",
    "        arr = arr[:n_batches * batch_size_total]\n",
    "        # Reshape into batch_size rows\n",
    "        arr = arr.reshape((self.batch_size, -1))      # IMPORTANT TO UNDERSTAND THE DIMENSIONS OF arr\n",
    "        \n",
    "        # iterate through the array. We read every of the n_batches sequeces in windows of seq_length characters\n",
    "        for n in range(0, arr.shape[1], self.seq_length):\n",
    "            # The features\n",
    "            x = arr[:, n:n+self.seq_length]\n",
    "            # The targets, shifted by one\n",
    "            y = np.zeros_like(x)\n",
    "            \n",
    "            if (n+self.seq_length<arr.shape[1]):     \n",
    "                y[:,-1] = arr[:, n+self.seq_length]\n",
    "                y[:, :-1] = x[:, 1:]\n",
    "            else: # If n+seq_length == arr.shape[1], then we are done! (arr[:, n+seq_length] yields an indexing error).\n",
    "                # We return a window with one column less (as the target for the last character is not available)\n",
    "                x = arr[:, n:n+self.seq_length-1]\n",
    "                y = np.zeros_like(x)\n",
    "                y[:, :-1] = x[:, 1:]\n",
    "                y[:,-1] = arr[:,-1]            \n",
    "            yield x, y\n",
    "            \n",
    "    def one_hot_encode(self, arr):\n",
    "    \n",
    "        num_elements = arr.shape[0]*arr.shape[1]\n",
    "        \n",
    "        # Initialize the the encoded array\n",
    "        one_hot = np.zeros([num_elements, self.n_char], dtype=np.float32)\n",
    "        \n",
    "        # Fill the appropriate elements with ones\n",
    "        one_hot[np.arange(one_hot.shape[0]), arr.reshape([num_elements])] = 1.\n",
    "        \n",
    "        # Reshape as (n_batch,seq_length,n_labels)\n",
    "        return one_hot.reshape(arr.shape[0], arr.shape[1], self.n_char)\n",
    "    \n",
    "    def trainloop(self,encoded_text):\n",
    "        \n",
    "        for e in range(self.epochs):\n",
    "            counter = 0.\n",
    "            start_time = time.time()\n",
    "            running_loss = 0.\n",
    "            \n",
    "            for x, y in self.get_batches(encoded_text):\n",
    "                \n",
    "                counter += 1.\n",
    "                \n",
    "                # One-hot encode our data and make them Torch tensors\n",
    "                x = self.one_hot_encode(x)\n",
    "\n",
    "                x, y = torch.from_numpy(x).to(self.device), torch.from_numpy(y).to(self.device)\n",
    "                \n",
    "                # TO DO: reset gradients \n",
    "                self.optim.zero_grad() \n",
    "                \n",
    "                # TO DO: compute output\n",
    "                out,hid = self.forward(x)\n",
    "                \n",
    "\n",
    "                # Calculate the loss and perform backprop\n",
    "                loss = self.criterion(out, y.reshape([out.shape[0],])) \n",
    "                # TO DO: compute gradients\n",
    "                loss.backward()\n",
    "                \n",
    "                # `clip_grad_norm` helps prevent the exploding gradient problem in RNNs / LSTMs.\n",
    "                nn.utils.clip_grad_norm_(self.parameters(), self.clip)\n",
    "                \n",
    "                self.optim.step() \n",
    "                \n",
    "                running_loss += loss.item()\n",
    "                \n",
    "            self.loss_during_training.append(running_loss/counter)\n",
    "            \n",
    "            if(e % 1 == 0): \n",
    "                print(\"Epoch %d. Training loss: %f, Time per epoch: %f seconds\" \n",
    "                      %(e,self.loss_during_training[-1],(time.time() - start_time)))            \n"
   ]
  },
  {
   "cell_type": "code",
   "execution_count": 18,
   "metadata": {
    "id": "A3zIaC-V66QU"
   },
   "outputs": [],
   "source": [
    "my_charLSTM = CharLSTM_extended(\n",
    "    batch_size=128,\n",
    "    sequence_length=100,\n",
    "    chars=chars,\n",
    "    epochs=10,\n",
    "    hidden_dim=512,\n",
    "    n_layers=2,\n",
    "    drop_prob=0.3\n",
    ")"
   ]
  },
  {
   "cell_type": "code",
   "execution_count": 19,
   "metadata": {
    "colab": {
     "base_uri": "https://localhost:8080/"
    },
    "id": "yyCJhw_j66QV",
    "outputId": "f857b53e-6b94-450c-b49e-532b4a34e990"
   },
   "outputs": [
    {
     "ename": "RuntimeError",
     "evalue": "Expected object of scalar type Long but got scalar type Int for argument #2 'target' in call to _thnn_nll_loss_forward",
     "output_type": "error",
     "traceback": [
      "\u001b[1;31m---------------------------------------------------------------------------\u001b[0m",
      "\u001b[1;31mRuntimeError\u001b[0m                              Traceback (most recent call last)",
      "\u001b[1;32m<ipython-input-19-546abc924649>\u001b[0m in \u001b[0;36m<module>\u001b[1;34m\u001b[0m\n\u001b[1;32m----> 1\u001b[1;33m \u001b[0mmy_charLSTM\u001b[0m\u001b[1;33m.\u001b[0m\u001b[0mtrainloop\u001b[0m\u001b[1;33m(\u001b[0m\u001b[0mencoded\u001b[0m\u001b[1;33m)\u001b[0m\u001b[1;33m\u001b[0m\u001b[1;33m\u001b[0m\u001b[0m\n\u001b[0m",
      "\u001b[1;32m<ipython-input-17-b4d47ac62616>\u001b[0m in \u001b[0;36mtrainloop\u001b[1;34m(self, encoded_text)\u001b[0m\n\u001b[0;32m    106\u001b[0m \u001b[1;33m\u001b[0m\u001b[0m\n\u001b[0;32m    107\u001b[0m                 \u001b[1;31m# Calculate the loss and perform backprop\u001b[0m\u001b[1;33m\u001b[0m\u001b[1;33m\u001b[0m\u001b[1;33m\u001b[0m\u001b[0m\n\u001b[1;32m--> 108\u001b[1;33m                 \u001b[0mloss\u001b[0m \u001b[1;33m=\u001b[0m \u001b[0mself\u001b[0m\u001b[1;33m.\u001b[0m\u001b[0mcriterion\u001b[0m\u001b[1;33m(\u001b[0m\u001b[0mout\u001b[0m\u001b[1;33m,\u001b[0m \u001b[0my\u001b[0m\u001b[1;33m.\u001b[0m\u001b[0mreshape\u001b[0m\u001b[1;33m(\u001b[0m\u001b[1;33m[\u001b[0m\u001b[0mout\u001b[0m\u001b[1;33m.\u001b[0m\u001b[0mshape\u001b[0m\u001b[1;33m[\u001b[0m\u001b[1;36m0\u001b[0m\u001b[1;33m]\u001b[0m\u001b[1;33m,\u001b[0m\u001b[1;33m]\u001b[0m\u001b[1;33m)\u001b[0m\u001b[1;33m)\u001b[0m\u001b[1;33m\u001b[0m\u001b[1;33m\u001b[0m\u001b[0m\n\u001b[0m\u001b[0;32m    109\u001b[0m                 \u001b[1;31m# TO DO: compute gradients\u001b[0m\u001b[1;33m\u001b[0m\u001b[1;33m\u001b[0m\u001b[1;33m\u001b[0m\u001b[0m\n\u001b[0;32m    110\u001b[0m                 \u001b[0mloss\u001b[0m\u001b[1;33m.\u001b[0m\u001b[0mbackward\u001b[0m\u001b[1;33m(\u001b[0m\u001b[1;33m)\u001b[0m\u001b[1;33m\u001b[0m\u001b[1;33m\u001b[0m\u001b[0m\n",
      "\u001b[1;32mc:\\users\\sergi\\desktop\\university\\2. neural networks\\nn_labs\\venv\\lib\\site-packages\\torch\\nn\\modules\\module.py\u001b[0m in \u001b[0;36m_call_impl\u001b[1;34m(self, *input, **kwargs)\u001b[0m\n\u001b[0;32m    887\u001b[0m             \u001b[0mresult\u001b[0m \u001b[1;33m=\u001b[0m \u001b[0mself\u001b[0m\u001b[1;33m.\u001b[0m\u001b[0m_slow_forward\u001b[0m\u001b[1;33m(\u001b[0m\u001b[1;33m*\u001b[0m\u001b[0minput\u001b[0m\u001b[1;33m,\u001b[0m \u001b[1;33m**\u001b[0m\u001b[0mkwargs\u001b[0m\u001b[1;33m)\u001b[0m\u001b[1;33m\u001b[0m\u001b[1;33m\u001b[0m\u001b[0m\n\u001b[0;32m    888\u001b[0m         \u001b[1;32melse\u001b[0m\u001b[1;33m:\u001b[0m\u001b[1;33m\u001b[0m\u001b[1;33m\u001b[0m\u001b[0m\n\u001b[1;32m--> 889\u001b[1;33m             \u001b[0mresult\u001b[0m \u001b[1;33m=\u001b[0m \u001b[0mself\u001b[0m\u001b[1;33m.\u001b[0m\u001b[0mforward\u001b[0m\u001b[1;33m(\u001b[0m\u001b[1;33m*\u001b[0m\u001b[0minput\u001b[0m\u001b[1;33m,\u001b[0m \u001b[1;33m**\u001b[0m\u001b[0mkwargs\u001b[0m\u001b[1;33m)\u001b[0m\u001b[1;33m\u001b[0m\u001b[1;33m\u001b[0m\u001b[0m\n\u001b[0m\u001b[0;32m    890\u001b[0m         for hook in itertools.chain(\n\u001b[0;32m    891\u001b[0m                 \u001b[0m_global_forward_hooks\u001b[0m\u001b[1;33m.\u001b[0m\u001b[0mvalues\u001b[0m\u001b[1;33m(\u001b[0m\u001b[1;33m)\u001b[0m\u001b[1;33m,\u001b[0m\u001b[1;33m\u001b[0m\u001b[1;33m\u001b[0m\u001b[0m\n",
      "\u001b[1;32mc:\\users\\sergi\\desktop\\university\\2. neural networks\\nn_labs\\venv\\lib\\site-packages\\torch\\nn\\modules\\loss.py\u001b[0m in \u001b[0;36mforward\u001b[1;34m(self, input, target)\u001b[0m\n\u001b[0;32m    214\u001b[0m     \u001b[1;32mdef\u001b[0m \u001b[0mforward\u001b[0m\u001b[1;33m(\u001b[0m\u001b[0mself\u001b[0m\u001b[1;33m,\u001b[0m \u001b[0minput\u001b[0m\u001b[1;33m:\u001b[0m \u001b[0mTensor\u001b[0m\u001b[1;33m,\u001b[0m \u001b[0mtarget\u001b[0m\u001b[1;33m:\u001b[0m \u001b[0mTensor\u001b[0m\u001b[1;33m)\u001b[0m \u001b[1;33m->\u001b[0m \u001b[0mTensor\u001b[0m\u001b[1;33m:\u001b[0m\u001b[1;33m\u001b[0m\u001b[1;33m\u001b[0m\u001b[0m\n\u001b[0;32m    215\u001b[0m         \u001b[1;32massert\u001b[0m \u001b[0mself\u001b[0m\u001b[1;33m.\u001b[0m\u001b[0mweight\u001b[0m \u001b[1;32mis\u001b[0m \u001b[1;32mNone\u001b[0m \u001b[1;32mor\u001b[0m \u001b[0misinstance\u001b[0m\u001b[1;33m(\u001b[0m\u001b[0mself\u001b[0m\u001b[1;33m.\u001b[0m\u001b[0mweight\u001b[0m\u001b[1;33m,\u001b[0m \u001b[0mTensor\u001b[0m\u001b[1;33m)\u001b[0m\u001b[1;33m\u001b[0m\u001b[1;33m\u001b[0m\u001b[0m\n\u001b[1;32m--> 216\u001b[1;33m         \u001b[1;32mreturn\u001b[0m \u001b[0mF\u001b[0m\u001b[1;33m.\u001b[0m\u001b[0mnll_loss\u001b[0m\u001b[1;33m(\u001b[0m\u001b[0minput\u001b[0m\u001b[1;33m,\u001b[0m \u001b[0mtarget\u001b[0m\u001b[1;33m,\u001b[0m \u001b[0mweight\u001b[0m\u001b[1;33m=\u001b[0m\u001b[0mself\u001b[0m\u001b[1;33m.\u001b[0m\u001b[0mweight\u001b[0m\u001b[1;33m,\u001b[0m \u001b[0mignore_index\u001b[0m\u001b[1;33m=\u001b[0m\u001b[0mself\u001b[0m\u001b[1;33m.\u001b[0m\u001b[0mignore_index\u001b[0m\u001b[1;33m,\u001b[0m \u001b[0mreduction\u001b[0m\u001b[1;33m=\u001b[0m\u001b[0mself\u001b[0m\u001b[1;33m.\u001b[0m\u001b[0mreduction\u001b[0m\u001b[1;33m)\u001b[0m\u001b[1;33m\u001b[0m\u001b[1;33m\u001b[0m\u001b[0m\n\u001b[0m\u001b[0;32m    217\u001b[0m \u001b[1;33m\u001b[0m\u001b[0m\n\u001b[0;32m    218\u001b[0m \u001b[1;33m\u001b[0m\u001b[0m\n",
      "\u001b[1;32mc:\\users\\sergi\\desktop\\university\\2. neural networks\\nn_labs\\venv\\lib\\site-packages\\torch\\nn\\functional.py\u001b[0m in \u001b[0;36mnll_loss\u001b[1;34m(input, target, weight, size_average, ignore_index, reduce, reduction)\u001b[0m\n\u001b[0;32m   2386\u001b[0m         )\n\u001b[0;32m   2387\u001b[0m     \u001b[1;32mif\u001b[0m \u001b[0mdim\u001b[0m \u001b[1;33m==\u001b[0m \u001b[1;36m2\u001b[0m\u001b[1;33m:\u001b[0m\u001b[1;33m\u001b[0m\u001b[1;33m\u001b[0m\u001b[0m\n\u001b[1;32m-> 2388\u001b[1;33m         \u001b[0mret\u001b[0m \u001b[1;33m=\u001b[0m \u001b[0mtorch\u001b[0m\u001b[1;33m.\u001b[0m\u001b[0m_C\u001b[0m\u001b[1;33m.\u001b[0m\u001b[0m_nn\u001b[0m\u001b[1;33m.\u001b[0m\u001b[0mnll_loss\u001b[0m\u001b[1;33m(\u001b[0m\u001b[0minput\u001b[0m\u001b[1;33m,\u001b[0m \u001b[0mtarget\u001b[0m\u001b[1;33m,\u001b[0m \u001b[0mweight\u001b[0m\u001b[1;33m,\u001b[0m \u001b[0m_Reduction\u001b[0m\u001b[1;33m.\u001b[0m\u001b[0mget_enum\u001b[0m\u001b[1;33m(\u001b[0m\u001b[0mreduction\u001b[0m\u001b[1;33m)\u001b[0m\u001b[1;33m,\u001b[0m \u001b[0mignore_index\u001b[0m\u001b[1;33m)\u001b[0m\u001b[1;33m\u001b[0m\u001b[1;33m\u001b[0m\u001b[0m\n\u001b[0m\u001b[0;32m   2389\u001b[0m     \u001b[1;32melif\u001b[0m \u001b[0mdim\u001b[0m \u001b[1;33m==\u001b[0m \u001b[1;36m4\u001b[0m\u001b[1;33m:\u001b[0m\u001b[1;33m\u001b[0m\u001b[1;33m\u001b[0m\u001b[0m\n\u001b[0;32m   2390\u001b[0m         \u001b[0mret\u001b[0m \u001b[1;33m=\u001b[0m \u001b[0mtorch\u001b[0m\u001b[1;33m.\u001b[0m\u001b[0m_C\u001b[0m\u001b[1;33m.\u001b[0m\u001b[0m_nn\u001b[0m\u001b[1;33m.\u001b[0m\u001b[0mnll_loss2d\u001b[0m\u001b[1;33m(\u001b[0m\u001b[0minput\u001b[0m\u001b[1;33m,\u001b[0m \u001b[0mtarget\u001b[0m\u001b[1;33m,\u001b[0m \u001b[0mweight\u001b[0m\u001b[1;33m,\u001b[0m \u001b[0m_Reduction\u001b[0m\u001b[1;33m.\u001b[0m\u001b[0mget_enum\u001b[0m\u001b[1;33m(\u001b[0m\u001b[0mreduction\u001b[0m\u001b[1;33m)\u001b[0m\u001b[1;33m,\u001b[0m \u001b[0mignore_index\u001b[0m\u001b[1;33m)\u001b[0m\u001b[1;33m\u001b[0m\u001b[1;33m\u001b[0m\u001b[0m\n",
      "\u001b[1;31mRuntimeError\u001b[0m: Expected object of scalar type Long but got scalar type Int for argument #2 'target' in call to _thnn_nll_loss_forward"
     ]
    }
   ],
   "source": [
    "my_charLSTM.trainloop(encoded)"
   ]
  },
  {
   "cell_type": "markdown",
   "metadata": {
    "id": "CHODUOwL66QV"
   },
   "source": [
    "## Part V. Getting the best model\n",
    "\n",
    "To set your hyperparameters to get the best performance, you'll want to watch the training and validation losses. If your training loss is much lower than the validation loss, you're overfitting. Increase regularization (more dropout) or use a smaller network. If the training and validation losses are close, you're underfitting so you can increase the size of the network.\n",
    "\n",
    "> **Exercise:** \n",
    "> - Separate the text intro training text and validation text.\n",
    "> - Modify the class CharLSTM_extended that monitors the validation loss during training\n",
    "> - Save your model after every epoch (save the parameters in a different file for every epoch). To do so, include a method in the class to save the model parameters. Then, you call it after the end of every epoch.\n",
    "> - Perform early stopping. I.e., load the parameters of the last epoch in which validation loss was decreasing.\n",
    "\n",
    "Here's some good advice from [Andrej Karpathy](https://github.com/karpathy/char-rnn#tips-and-tricks) on training the network.\n",
    "\n",
    "In order to save at every epoch, the following code can help. Here we are saving the parameters needed to create the same architecture, the hidden layer hyperparameters and the text characters.\n",
    "\n",
    "```python\n",
    "\n",
    "# change the name, for saving multiple files\n",
    "model_name = 'rnn_' + str(e) + '_epoch.net'\n",
    "\n",
    "checkpoint = {'hidden_dim': my_charLSTM.hidden_dim,\n",
    "              'n_layers': my_charLSTM.n_layers,\n",
    "              'batch_size': my_charLSTM.batch_size,\n",
    "              'sequence_length': my_charLSTM.seq_length,\n",
    "              'state_dict': my_charLSTM.state_dict(),\n",
    "              'chars': my_charLSTM.chars}\n",
    "\n",
    "with open(model_name, 'wb') as f:\n",
    "    torch.save(checkpoint, f)\n",
    "```\n",
    "\n",
    "Then, if you want to restore your model, you can use the following code\n",
    "\n",
    "```python\n",
    "\n",
    "# Here we have loaded in a model that trained over 20 epochs `rnn_20_epoch.net`\n",
    "with open('rnn_20_epoch.net', 'rb') as f:\n",
    "    checkpoint = torch.load(f)\n",
    "    \n",
    "loaded = CharLSTM_extended(batch_size=checkpoint['batch_size'],seq_length=checkpoint['seq_length'], \n",
    "                           chars=checkpoint['chars'],\n",
    "                           hidden_dim=checkpoint['hidden_dim'], \n",
    "                           n_layers=checkpoint['n_layers'])\n",
    "loaded.load_state_dict(checkpoint['state_dict'])\n",
    "```\n"
   ]
  },
  {
   "cell_type": "code",
   "execution_count": 324,
   "metadata": {
    "id": "kwZxxzY7oLk9"
   },
   "outputs": [],
   "source": [
    "class CharLSTM_extended_val(CharLSTM_extended):\n",
    "    \n",
    "    def __init__(self, *args, **kwargs):\n",
    "\n",
    "        super().__init__(*args, **kwargs)        \n",
    "        self.loss_during_validation = [] \n",
    "        \n",
    "        # Training mode by default\n",
    "        self.train()\n",
    "    \n",
    "    def trainloop(self, encoded_text, validation):\n",
    "        \n",
    "        for e in range(self.epochs):\n",
    "            \n",
    "            counter = 0.\n",
    "            start_time = time.time()\n",
    "            running_loss = 0.\n",
    "            \n",
    "            for x, y in self.get_batches(encoded_text):\n",
    "                \n",
    "                counter += 1.\n",
    "                \n",
    "                # One-hot encode our data and make them Torch tensors\n",
    "                x = self.one_hot_encode(x)\n",
    "\n",
    "                x, y = torch.from_numpy(x).to(self.device), torch.from_numpy(y).to(self.device)\n",
    "                \n",
    "                # TO DO: reset gradients \n",
    "                self.optim.zero_grad()\n",
    "\n",
    "                # TO DO: compute output\n",
    "                out, _ = self.forward(x.view(self.batch_size))\n",
    "\n",
    "                # Calculate the loss and perform backprop\n",
    "                loss = self.criterion(out, y.reshape([out.shape[0],])) \n",
    "            \n",
    "                # TO DO: compute gradients\n",
    "                loss.backward()\n",
    "\n",
    "                # `clip_grad_norm` helps prevent the exploding gradient problem in RNNs / LSTMs.\n",
    "                nn.utils.clip_grad_norm_(self.parameters(), self.clip)\n",
    "                \n",
    "                self.optim.step() \n",
    "                \n",
    "                running_loss += loss.item()\n",
    "                \n",
    "            self.loss_during_training.append(running_loss/counter)\n",
    "\n",
    "            #validation\n",
    "            self.eval()\n",
    "            with torch.no_grad():\n",
    "                for x, y in self.get_batches(validation):\n",
    "                    counter += 1.\n",
    "                    \n",
    "                    # One-hot encode our data and make them Torch tensors\n",
    "                    x = self.one_hot_encode(x)\n",
    "\n",
    "                    x, y = torch.from_numpy(x).to(self.device), torch.from_numpy(y).to(self.device)\n",
    "\n",
    "                    # TO DO: compute output\n",
    "                    out, _ = self.forward(x)\n",
    "\n",
    "                    # Calculate the loss\n",
    "                    loss = self.criterion(out, y.reshape([out.shape[0],])) \n",
    "                    \n",
    "                    running_loss += loss.item()            \n",
    "            \n",
    "            self.loss_during_validation.append(running_loss/counter)\n",
    "\n",
    "            model_name = 'rnn_' + str(e) + '_epoch.net'\n",
    " \n",
    "            checkpoint = {\n",
    "                'hidden_dim': self.hidden_dim,\n",
    "                'n_layers': self.n_layers,\n",
    "                'batch_size': self.batch_size,\n",
    "                'sequence_length': self.seq_length,\n",
    "                'state_dict': self.state_dict(),\n",
    "                'chars': self.n_char\n",
    "            }\n",
    "            with open(model_name, 'wb') as f:\n",
    "                torch.save(checkpoint, f)\n",
    "\n",
    "            if(e % 1 == 0): \n",
    "                print(\"Epoch %d. Training loss: %f, Time per epoch: %f seconds\" \n",
    "                      %(e,self.loss_during_training[-1],(time.time() - start_time)))            \n"
   ]
  },
  {
   "cell_type": "code",
   "execution_count": 325,
   "metadata": {
    "id": "VrLowBgprYTc"
   },
   "outputs": [],
   "source": [
    "i_validation = int(len(encoded)*0.7)\n",
    "trainset, validset = encoded[:i_validation], encoded[i_validation:]"
   ]
  },
  {
   "cell_type": "code",
   "execution_count": 326,
   "metadata": {
    "id": "jgYtXT8ErSnm"
   },
   "outputs": [],
   "source": [
    "my_charLSTM = CharLSTM_extended_val(\n",
    "    batch_size=128,\n",
    "    sequence_length=100,\n",
    "    chars=chars,\n",
    "    epochs=5,\n",
    "    hidden_dim=512,\n",
    "    n_layers=2,\n",
    "    drop_prob=0.3\n",
    ")"
   ]
  },
  {
   "cell_type": "code",
   "execution_count": 298,
   "metadata": {},
   "outputs": [
    {
     "ename": "RuntimeError",
     "evalue": "Expected object of scalar type Long but got scalar type Int for argument #2 'target' in call to _thnn_nll_loss_forward",
     "output_type": "error",
     "traceback": [
      "\u001b[1;31m---------------------------------------------------------------------------\u001b[0m",
      "\u001b[1;31mRuntimeError\u001b[0m                              Traceback (most recent call last)",
      "\u001b[1;32m<ipython-input-298-2e6adac339d7>\u001b[0m in \u001b[0;36m<module>\u001b[1;34m\u001b[0m\n\u001b[1;32m----> 1\u001b[1;33m \u001b[0mmy_charLSTM\u001b[0m\u001b[1;33m.\u001b[0m\u001b[0mtrainloop\u001b[0m\u001b[1;33m(\u001b[0m\u001b[0mtrainset\u001b[0m\u001b[1;33m,\u001b[0m\u001b[0mvalidset\u001b[0m\u001b[1;33m)\u001b[0m\u001b[1;33m\u001b[0m\u001b[1;33m\u001b[0m\u001b[0m\n\u001b[0m",
      "\u001b[1;32m<ipython-input-295-59b1b3031f6b>\u001b[0m in \u001b[0;36mtrainloop\u001b[1;34m(self, encoded_text, validation)\u001b[0m\n\u001b[0;32m     33\u001b[0m \u001b[1;33m\u001b[0m\u001b[0m\n\u001b[0;32m     34\u001b[0m                 \u001b[1;31m# Calculate the loss and perform backprop\u001b[0m\u001b[1;33m\u001b[0m\u001b[1;33m\u001b[0m\u001b[1;33m\u001b[0m\u001b[0m\n\u001b[1;32m---> 35\u001b[1;33m                 \u001b[0mloss\u001b[0m \u001b[1;33m=\u001b[0m \u001b[0mself\u001b[0m\u001b[1;33m.\u001b[0m\u001b[0mcriterion\u001b[0m\u001b[1;33m(\u001b[0m\u001b[0mout\u001b[0m\u001b[1;33m,\u001b[0m \u001b[0my\u001b[0m\u001b[1;33m.\u001b[0m\u001b[0mreshape\u001b[0m\u001b[1;33m(\u001b[0m\u001b[1;33m[\u001b[0m\u001b[0mout\u001b[0m\u001b[1;33m.\u001b[0m\u001b[0mshape\u001b[0m\u001b[1;33m[\u001b[0m\u001b[1;36m0\u001b[0m\u001b[1;33m]\u001b[0m\u001b[1;33m,\u001b[0m\u001b[1;33m]\u001b[0m\u001b[1;33m)\u001b[0m\u001b[1;33m)\u001b[0m\u001b[1;33m\u001b[0m\u001b[1;33m\u001b[0m\u001b[0m\n\u001b[0m\u001b[0;32m     36\u001b[0m \u001b[1;33m\u001b[0m\u001b[0m\n\u001b[0;32m     37\u001b[0m                 \u001b[1;31m# TO DO: compute gradients\u001b[0m\u001b[1;33m\u001b[0m\u001b[1;33m\u001b[0m\u001b[1;33m\u001b[0m\u001b[0m\n",
      "\u001b[1;32mc:\\users\\sergi\\desktop\\university\\2. neural networks\\nn_labs\\venv\\lib\\site-packages\\torch\\nn\\modules\\module.py\u001b[0m in \u001b[0;36m_call_impl\u001b[1;34m(self, *input, **kwargs)\u001b[0m\n\u001b[0;32m    887\u001b[0m             \u001b[0mresult\u001b[0m \u001b[1;33m=\u001b[0m \u001b[0mself\u001b[0m\u001b[1;33m.\u001b[0m\u001b[0m_slow_forward\u001b[0m\u001b[1;33m(\u001b[0m\u001b[1;33m*\u001b[0m\u001b[0minput\u001b[0m\u001b[1;33m,\u001b[0m \u001b[1;33m**\u001b[0m\u001b[0mkwargs\u001b[0m\u001b[1;33m)\u001b[0m\u001b[1;33m\u001b[0m\u001b[1;33m\u001b[0m\u001b[0m\n\u001b[0;32m    888\u001b[0m         \u001b[1;32melse\u001b[0m\u001b[1;33m:\u001b[0m\u001b[1;33m\u001b[0m\u001b[1;33m\u001b[0m\u001b[0m\n\u001b[1;32m--> 889\u001b[1;33m             \u001b[0mresult\u001b[0m \u001b[1;33m=\u001b[0m \u001b[0mself\u001b[0m\u001b[1;33m.\u001b[0m\u001b[0mforward\u001b[0m\u001b[1;33m(\u001b[0m\u001b[1;33m*\u001b[0m\u001b[0minput\u001b[0m\u001b[1;33m,\u001b[0m \u001b[1;33m**\u001b[0m\u001b[0mkwargs\u001b[0m\u001b[1;33m)\u001b[0m\u001b[1;33m\u001b[0m\u001b[1;33m\u001b[0m\u001b[0m\n\u001b[0m\u001b[0;32m    890\u001b[0m         for hook in itertools.chain(\n\u001b[0;32m    891\u001b[0m                 \u001b[0m_global_forward_hooks\u001b[0m\u001b[1;33m.\u001b[0m\u001b[0mvalues\u001b[0m\u001b[1;33m(\u001b[0m\u001b[1;33m)\u001b[0m\u001b[1;33m,\u001b[0m\u001b[1;33m\u001b[0m\u001b[1;33m\u001b[0m\u001b[0m\n",
      "\u001b[1;32mc:\\users\\sergi\\desktop\\university\\2. neural networks\\nn_labs\\venv\\lib\\site-packages\\torch\\nn\\modules\\loss.py\u001b[0m in \u001b[0;36mforward\u001b[1;34m(self, input, target)\u001b[0m\n\u001b[0;32m    214\u001b[0m     \u001b[1;32mdef\u001b[0m \u001b[0mforward\u001b[0m\u001b[1;33m(\u001b[0m\u001b[0mself\u001b[0m\u001b[1;33m,\u001b[0m \u001b[0minput\u001b[0m\u001b[1;33m:\u001b[0m \u001b[0mTensor\u001b[0m\u001b[1;33m,\u001b[0m \u001b[0mtarget\u001b[0m\u001b[1;33m:\u001b[0m \u001b[0mTensor\u001b[0m\u001b[1;33m)\u001b[0m \u001b[1;33m->\u001b[0m \u001b[0mTensor\u001b[0m\u001b[1;33m:\u001b[0m\u001b[1;33m\u001b[0m\u001b[1;33m\u001b[0m\u001b[0m\n\u001b[0;32m    215\u001b[0m         \u001b[1;32massert\u001b[0m \u001b[0mself\u001b[0m\u001b[1;33m.\u001b[0m\u001b[0mweight\u001b[0m \u001b[1;32mis\u001b[0m \u001b[1;32mNone\u001b[0m \u001b[1;32mor\u001b[0m \u001b[0misinstance\u001b[0m\u001b[1;33m(\u001b[0m\u001b[0mself\u001b[0m\u001b[1;33m.\u001b[0m\u001b[0mweight\u001b[0m\u001b[1;33m,\u001b[0m \u001b[0mTensor\u001b[0m\u001b[1;33m)\u001b[0m\u001b[1;33m\u001b[0m\u001b[1;33m\u001b[0m\u001b[0m\n\u001b[1;32m--> 216\u001b[1;33m         \u001b[1;32mreturn\u001b[0m \u001b[0mF\u001b[0m\u001b[1;33m.\u001b[0m\u001b[0mnll_loss\u001b[0m\u001b[1;33m(\u001b[0m\u001b[0minput\u001b[0m\u001b[1;33m,\u001b[0m \u001b[0mtarget\u001b[0m\u001b[1;33m,\u001b[0m \u001b[0mweight\u001b[0m\u001b[1;33m=\u001b[0m\u001b[0mself\u001b[0m\u001b[1;33m.\u001b[0m\u001b[0mweight\u001b[0m\u001b[1;33m,\u001b[0m \u001b[0mignore_index\u001b[0m\u001b[1;33m=\u001b[0m\u001b[0mself\u001b[0m\u001b[1;33m.\u001b[0m\u001b[0mignore_index\u001b[0m\u001b[1;33m,\u001b[0m \u001b[0mreduction\u001b[0m\u001b[1;33m=\u001b[0m\u001b[0mself\u001b[0m\u001b[1;33m.\u001b[0m\u001b[0mreduction\u001b[0m\u001b[1;33m)\u001b[0m\u001b[1;33m\u001b[0m\u001b[1;33m\u001b[0m\u001b[0m\n\u001b[0m\u001b[0;32m    217\u001b[0m \u001b[1;33m\u001b[0m\u001b[0m\n\u001b[0;32m    218\u001b[0m \u001b[1;33m\u001b[0m\u001b[0m\n",
      "\u001b[1;32mc:\\users\\sergi\\desktop\\university\\2. neural networks\\nn_labs\\venv\\lib\\site-packages\\torch\\nn\\functional.py\u001b[0m in \u001b[0;36mnll_loss\u001b[1;34m(input, target, weight, size_average, ignore_index, reduce, reduction)\u001b[0m\n\u001b[0;32m   2386\u001b[0m         )\n\u001b[0;32m   2387\u001b[0m     \u001b[1;32mif\u001b[0m \u001b[0mdim\u001b[0m \u001b[1;33m==\u001b[0m \u001b[1;36m2\u001b[0m\u001b[1;33m:\u001b[0m\u001b[1;33m\u001b[0m\u001b[1;33m\u001b[0m\u001b[0m\n\u001b[1;32m-> 2388\u001b[1;33m         \u001b[0mret\u001b[0m \u001b[1;33m=\u001b[0m \u001b[0mtorch\u001b[0m\u001b[1;33m.\u001b[0m\u001b[0m_C\u001b[0m\u001b[1;33m.\u001b[0m\u001b[0m_nn\u001b[0m\u001b[1;33m.\u001b[0m\u001b[0mnll_loss\u001b[0m\u001b[1;33m(\u001b[0m\u001b[0minput\u001b[0m\u001b[1;33m,\u001b[0m \u001b[0mtarget\u001b[0m\u001b[1;33m,\u001b[0m \u001b[0mweight\u001b[0m\u001b[1;33m,\u001b[0m \u001b[0m_Reduction\u001b[0m\u001b[1;33m.\u001b[0m\u001b[0mget_enum\u001b[0m\u001b[1;33m(\u001b[0m\u001b[0mreduction\u001b[0m\u001b[1;33m)\u001b[0m\u001b[1;33m,\u001b[0m \u001b[0mignore_index\u001b[0m\u001b[1;33m)\u001b[0m\u001b[1;33m\u001b[0m\u001b[1;33m\u001b[0m\u001b[0m\n\u001b[0m\u001b[0;32m   2389\u001b[0m     \u001b[1;32melif\u001b[0m \u001b[0mdim\u001b[0m \u001b[1;33m==\u001b[0m \u001b[1;36m4\u001b[0m\u001b[1;33m:\u001b[0m\u001b[1;33m\u001b[0m\u001b[1;33m\u001b[0m\u001b[0m\n\u001b[0;32m   2390\u001b[0m         \u001b[0mret\u001b[0m \u001b[1;33m=\u001b[0m \u001b[0mtorch\u001b[0m\u001b[1;33m.\u001b[0m\u001b[0m_C\u001b[0m\u001b[1;33m.\u001b[0m\u001b[0m_nn\u001b[0m\u001b[1;33m.\u001b[0m\u001b[0mnll_loss2d\u001b[0m\u001b[1;33m(\u001b[0m\u001b[0minput\u001b[0m\u001b[1;33m,\u001b[0m \u001b[0mtarget\u001b[0m\u001b[1;33m,\u001b[0m \u001b[0mweight\u001b[0m\u001b[1;33m,\u001b[0m \u001b[0m_Reduction\u001b[0m\u001b[1;33m.\u001b[0m\u001b[0mget_enum\u001b[0m\u001b[1;33m(\u001b[0m\u001b[0mreduction\u001b[0m\u001b[1;33m)\u001b[0m\u001b[1;33m,\u001b[0m \u001b[0mignore_index\u001b[0m\u001b[1;33m)\u001b[0m\u001b[1;33m\u001b[0m\u001b[1;33m\u001b[0m\u001b[0m\n",
      "\u001b[1;31mRuntimeError\u001b[0m: Expected object of scalar type Long but got scalar type Int for argument #2 'target' in call to _thnn_nll_loss_forward"
     ]
    }
   ],
   "source": [
    "my_charLSTM.trainloop(trainset,validset)"
   ]
  },
  {
   "cell_type": "code",
   "execution_count": 55,
   "metadata": {
    "colab": {
     "base_uri": "https://localhost:8080/",
     "height": 517
    },
    "id": "LtGTIFyMsRFU",
    "outputId": "4a8ee140-7240-4f19-e02f-fd3f6b8a27fe"
   },
   "outputs": [
    {
     "data": {
      "image/png": "[encoded data removed]",
      "text/plain": [
       "<Figure size 576x576 with 1 Axes>"
      ]
     },
     "metadata": {
      "image/png": {
       "height": 500,
       "width": 503
      },
      "tags": []
     },
     "output_type": "display_data"
    }
   ],
   "source": [
    "plt.plot(\n",
    "    range(my_charLSTM.epochs),\n",
    "    my_charLSTM.loss_during_training,\n",
    "    label = 'training loss'\n",
    ")\n",
    "plt.plot(\n",
    "    range(my_charLSTM.epochs),\n",
    "    my_charLSTM.loss_during_validation,\n",
    "    label = 'validation loss'\n",
    ")\n",
    "plt.legend()\n",
    "plt.title('Negative log likelihood loss')\n",
    "plt.ylabel('loss')\n",
    "plt.xlabel('epoch')\n",
    "plt.show()"
   ]
  },
  {
   "cell_type": "code",
   "execution_count": null,
   "metadata": {
    "id": "DVh_NnQz7dTs"
   },
   "outputs": [],
   "source": [
    "i_validation = int(len(encoded)*0.8)\n",
    "trainset, validset = encoded[:i_validation], encoded[i_validation:]"
   ]
  },
  {
   "cell_type": "code",
   "execution_count": null,
   "metadata": {
    "id": "0isO8Rdy7Cat"
   },
   "outputs": [],
   "source": [
    "my_charLSTM = CharLSTM_extended_val(\n",
    "    batch_size=128,\n",
    "    sequence_length=100,\n",
    "    chars=chars,\n",
    "    epochs=30,\n",
    "    hidden_dim=512,\n",
    "    n_layers=2,\n",
    "    drop_prob=0.3,\n",
    "    savename = 'lstm'\n",
    ")"
   ]
  },
  {
   "cell_type": "code",
   "execution_count": null,
   "metadata": {},
   "outputs": [],
   "source": [
    "my_charLSTM.trainloop(trainset,validset)"
   ]
  },
  {
   "cell_type": "code",
   "execution_count": null,
   "metadata": {
    "id": "fYv6F80KBhCr"
   },
   "outputs": [],
   "source": [
    "def n_paramenters(model):\n",
    "    model_parameters = filter(lambda p: p.requires_grad, model.parameters())\n",
    "    params = sum([np.prod(p.size()) for p in model_parameters])\n",
    "    return params\n",
    "len(encoded)"
   ]
  },
  {
   "cell_type": "code",
   "execution_count": 87,
   "metadata": {
    "colab": {
     "base_uri": "https://localhost:8080/",
     "height": 517
    },
    "id": "r-fjZWTu-N6M",
    "outputId": "f84c8a1f-39c5-4f9c-e288-fb58ff865b88"
   },
   "outputs": [
    {
     "data": {
      "image/png": "[encoded data removed]",
      "text/plain": [
       "<Figure size 576x576 with 1 Axes>"
      ]
     },
     "metadata": {
      "image/png": {
       "height": 500,
       "width": 503
      },
      "tags": []
     },
     "output_type": "display_data"
    }
   ],
   "source": [
    "plt.plot(\n",
    "    range(my_charLSTM.epochs),\n",
    "    my_charLSTM.loss_during_training,\n",
    "    label='training loss'\n",
    ")\n",
    "plt.plot(\n",
    "    range(my_charLSTM.epochs),\n",
    "    my_charLSTM.loss_during_validation,\n",
    "    label='validation loss'\n",
    ")\n",
    "plt.legend()\n",
    "plt.title('Negative log likelihood loss')\n",
    "plt.ylabel('loss')\n",
    "plt.xlabel('epoch')\n",
    "plt.show()"
   ]
  },
  {
   "cell_type": "markdown",
   "metadata": {
    "id": "UePta7XW66QV"
   },
   "source": [
    "---\n",
    "## Part VI. Making Predictions\n",
    "\n",
    "Now that the model is trained, we'll want to sample from it and make predictions about next characters! To sample, we pass in a character and have the network predict the next character. Then we take that character, pass it back in, and get another predicted character. Just keep doing this and you'll generate a bunch of text!\n",
    "\n",
    "### A note on the `predict`  function\n",
    "\n",
    "The output of our RNN is from a fully-connected layer followed by a Softmax layer, and it outputs a **distribution of next-character scores**.\n",
    "\n",
    "### Top K sampling\n",
    "\n",
    "Our predictions come from a categorical probability distribution over all the possible characters. We can make the sample text and make it more reasonable to handle (with less variables) by only considering some $K$ most probable characters. This will prevent the network from giving us completely absurd characters while allowing it to introduce some noise and randomness into the sampled text. Read more about [topk, here](https://pytorch.org/docs/stable/torch.html#torch.topk).\n",
    "\n",
    "> **Exercise:** Complete the following code"
   ]
  },
  {
   "cell_type": "code",
   "execution_count": 88,
   "metadata": {
    "id": "ca-Lq7Q666QW"
   },
   "outputs": [],
   "source": [
    "def predict(charLSTM_class, current_char, dict_c2int, h=None, top_k=None):\n",
    "        ''' Given a character, predict the next character.\n",
    "            Returns the predicted character and the hidden state.\n",
    "        '''\n",
    "        \n",
    "        # tensor inputs\n",
    "        x = np.array([[char2int[current_char]]])\n",
    "        x = charLSTM_class.one_hot_encode(x)\n",
    "        \n",
    "        inputs = torch.from_numpy(x)\n",
    "        \n",
    "        charLSTM_class.to('cpu')\n",
    "    \n",
    "        # TO DO: get the output of the model\n",
    "        \n",
    "        out, h = charLSTM_class.forward(inputs) #YOUR CODE HERE\n",
    "\n",
    "        p, top_ch = torch.exp(out).topk(top_k)\n",
    "        top_ch = top_ch.numpy().squeeze()\n",
    "        \n",
    "        # select the likely next character with some element of randomness\n",
    "        p = p.detach().numpy().squeeze()\n",
    "        char = np.random.choice(top_ch, p=p/p.sum())\n",
    "        \n",
    "        # return the encoded value of the predicted char and the hidden state\n",
    "        return int2char[char], h"
   ]
  },
  {
   "cell_type": "markdown",
   "metadata": {
    "id": "udwvm-6r66QW"
   },
   "source": [
    "### Generating text from an initial string\n",
    "\n",
    "Typically you'll want to prime the network so you can build up a hidden state. Otherwise the network will start out generating characters at random. In general the first bunch of characters will be a little rough since it hasn't built up a long history of characters to predict from.\n",
    "\n",
    "> **Exercise:** Understand the following code! Nothing to do"
   ]
  },
  {
   "cell_type": "code",
   "execution_count": 89,
   "metadata": {
    "id": "GCV0R5Iq66QW"
   },
   "outputs": [],
   "source": [
    "def sample(charLSTM_class, size, dict_c2int, prime='The', top_k=5):\n",
    "    \n",
    "    charLSTM_class.eval() # eval mode\n",
    "    \n",
    "    # First off, run through the prime characters\n",
    "    chars = [ch for ch in prime]\n",
    "    h = None\n",
    "    for ch in prime:\n",
    "        char, h = predict(charLSTM_class, ch, char2int, h, top_k=top_k)\n",
    "\n",
    "    chars.append(char)\n",
    "    \n",
    "    # Now pass in the previous character and get a new one\n",
    "    for ii in range(size):\n",
    "        char, h = predict(charLSTM_class, chars[-1], char2int, h, top_k=top_k)\n",
    "        chars.append(char)\n",
    "\n",
    "    return ''.join(chars)"
   ]
  },
  {
   "cell_type": "markdown",
   "metadata": {
    "id": "GrPYEJaW66QW"
   },
   "source": [
    "Finally, lets take a look to the text that our model generates"
   ]
  },
  {
   "cell_type": "code",
   "execution_count": 90,
   "metadata": {
    "colab": {
     "base_uri": "https://localhost:8080/"
    },
    "id": "8_uGydcp66QW",
    "outputId": "8ae571e4-2b63-4171-9ec4-9a386058b5e5"
   },
   "outputs": [
    {
     "name": "stdout",
     "output_type": "stream",
     "text": [
      "Annan ared anghashorithe onghe antheret thid adorothost hit anethous son at shan arin hentheroure st t hithathantit h hither soun hon thed the t an shetot hot thed t asothouthadithidose thishist andin he sone on athisoun shin h th hare ot oson ad oshe ten tin toshenthand othedontose an osoton othinthe he ashar thig t anthid se stid orere ashot thit t sharon s atore ang h an tonthit had that sot onghed het thangedothone he athe and an sot tharine tid thine tothothe he an thand hathind sh outhe athe arotothin heron thindoran henghed ated tharare and are tont s asothithe sed therid at sh tothote and on s oshe atothaset and tou hour otothe hin hed the t s oshedid arin hot he son t at ton an ouras han ther tit hin t os ad hase the t asthine torin he thed soushedisotontisoretoten therosothe thanerous anend aron sotourarontot hitheritond ad s thanet than t on on toserin t osthe s teronerorotitos hinder tingithotid an otound ashan storind thand\n",
      "arad\n",
      "ared herithe s thin ont shethe se t an h ond ant \n"
     ]
    }
   ],
   "source": [
    "print(sample(my_charLSTM, 1000, char2int, prime='Anna', top_k=5))"
   ]
  },
  {
   "cell_type": "code",
   "execution_count": 100,
   "metadata": {
    "colab": {
     "base_uri": "https://localhost:8080/"
    },
    "id": "CiFv0hXd66QW",
    "outputId": "d4ed5beb-d1ec-405b-9feb-488bf7408090"
   },
   "outputs": [
    {
     "data": {
      "text/plain": [
       "<All keys matched successfully>"
      ]
     },
     "execution_count": 100,
     "metadata": {
      "tags": []
     },
     "output_type": "execute_result"
    }
   ],
   "source": [
    "with open('rnn_50_epoch.net', 'rb') as f:\n",
    "    checkpoint = torch.load(f)\n",
    " \n",
    "loaded = CharLSTM_extended_val(\n",
    "    batch_size=checkpoint['batch_size'],\n",
    "    sequence_length=checkpoint['sequence_length'], \n",
    "    chars=chars,\n",
    "    hidden_dim=checkpoint['hidden_dim'], \n",
    "    n_layers=checkpoint['n_layers']\n",
    ")\n",
    "loaded.load_state_dict(checkpoint['state_dict'])"
   ]
  },
  {
   "cell_type": "code",
   "execution_count": 101,
   "metadata": {
    "colab": {
     "base_uri": "https://localhost:8080/"
    },
    "id": "nYgh66p9Auj1",
    "outputId": "967647e0-42ee-4bbc-be9e-3ba39da3964c"
   },
   "outputs": [
    {
     "name": "stdout",
     "output_type": "stream",
     "text": [
      "Annathe shile s t the are t ant whe ate his hede tere tofe sthed as sth an whe t wasthont thand s anthe wathanend hine t hede tore wand thasitond\n",
      "hant the win he stind s and athin ato the wo an s s atoules t thathis wasit wars he hant atershe t herourithe tor ashe he his herishe s thin tes shite wanged the s ashes the hand ser s ane thily, s simere thim se at harend se wang ther t anditong he t th anede wato and\n",
      "and ared wes th hand sthas he wind we thed touloro thintouthe s the tinthand ad thong s sed\n",
      "\n",
      "ad an t t ad tithind s the sind s ande hine as the we t hase washashed an and sthe are hine hin wathim thate to wis shen hore tin we tent ad wous tind ars the hen to he ang harer andint hito sthithan t he t hestonerof antil th withed witengero then t s wang and the an hant tes ang th athor heste hese at th t sene te ad tilesine he wate st thatout thimime tis tise hand stingherst sten torondim t hero thiton serouthent aste t hit h thin he anted hisimed whan thatonges se stherered s s hititis \n"
     ]
    }
   ],
   "source": [
    "print(sample(loaded, 1000, char2int, prime='Anna', top_k=5))"
   ]
  },
  {
   "cell_type": "code",
   "execution_count": 96,
   "metadata": {
    "colab": {
     "base_uri": "https://localhost:8080/"
    },
    "id": "Pm4s6B3z4ggF",
    "outputId": "82e10e44-0224-4b38-bbde-7e40e84abe69"
   },
   "outputs": [
    {
     "name": "stdout",
     "output_type": "stream",
     "text": [
      "Annant ad t the ad as and wout ar has waresthorese sitonthedery anghe thar t he to war t t wiled, him sed witofe hing, atout thend, tin whare athedere an wed thintime she thofered the thenteng heder s t t andithasthe win at time wangest an sheryoulis hin sis wat athang, tilled tond athan t t wind hede thind athith s wared arer t werer than he hery wilin the tisthe time thas sesin the toned the t thisimon hinge withonede an thend thit sthed\n",
      "\n",
      "\n",
      "\"\n",
      "are t s wan ane ant won ses ath ad an wand anede he had wer sh thille tithar sested withe te heres hang, s atheredisthengoulingore ad wathe adimasend he th an and ar the he har at he watontoun t an he s st win atin he we tenger asind tis s tof st thantound, st ashar ater are was he ad at tisilis won athinthe he sthed t teng as t tithimoreder theringhenges wind s at haredind,\"Whare hisilesinthere and s an t hed hat hilested te wand theshand horimadithe sing simered hinere s arind h an tind s wand thisthad,\"Ninge ang, to ange whe whimit hil t t hed hed \n"
     ]
    }
   ],
   "source": [
    "print(sample(loaded, 1000, char2int, prime='Anna', top_k=5))"
   ]
  }
 ],
 "metadata": {
  "accelerator": "GPU",
  "colab": {
   "collapsed_sections": [],
   "name": "STUDENT_Lab_4_Part_II.ipynb",
   "provenance": []
  },
  "kernelspec": {
   "display_name": "Python 3",
   "language": "python",
   "name": "python3"
  },
  "language_info": {
   "codemirror_mode": {
    "name": "ipython",
    "version": 3
   },
   "file_extension": ".py",
   "mimetype": "text/x-python",
   "name": "python",
   "nbconvert_exporter": "python",
   "pygments_lexer": "ipython3",
   "version": "3.9.2"
  }
 },
 "nbformat": 4,
 "nbformat_minor": 1
}
